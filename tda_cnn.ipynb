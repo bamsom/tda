{
 "cells": [
  {
   "cell_type": "code",
   "execution_count": 1,
   "metadata": {},
   "outputs": [],
   "source": [
    "import numpy as np\n",
    "import matplotlib.pyplot as plt"
   ]
  },
  {
   "cell_type": "markdown",
   "metadata": {},
   "source": [
    "# TDA of CNN \n",
    "\n",
    "The purpose of this notebook is to study Carlsson's program: Topological Data Analysis of neural networks, CNN in particular. There are several version of papers by Carsson et al. We mainly use \n",
    "[C] https://arxiv.org/pdf/1810.03234.pdf \n",
    "\n",
    "Now let $\\mathcal{M}$ denote $3 \\times 3$ patches (intensity values of 9-pixels or weights of CNN) of an image. Considering these patches as 9-vector we see $\\mathcal{M} \\subset \\mathbb{R}^9 $ \n",
    "\n",
    "## Manifold structure of $\\mathcal{M}$ \n",
    "\n",
    "In a remarkable investigation following empirical observation, Mumford et al. gave a metric on $\\mathcal{M}$ by \n",
    "embedding it in $S^7$. We follow [M]\n",
    "https://dash.harvard.edu/bitstream/handle/1/3637108/Mumford_NonlinStatPatches.pdf?sequence=1"
   ]
  },
  {
   "cell_type": "markdown",
   "metadata": {},
   "source": [
    "First, [M] gives D-norm, $\\lVert\\ \\rVert_D$, using geometry of $3 \\times 3$ patch:"
   ]
  },
  {
   "cell_type": "code",
   "execution_count": 2,
   "metadata": {},
   "outputs": [],
   "source": [
    "D = np.array([[2,-1,0,-1,0,0,0,0,0],[-1,3,-1,0,-1,0,0,0,0],[0,-1,2,0,0,-1,0,0,0],\\\n",
    "              [-1,0,0,3,-1,0,-1,0,0],[0,-1,0,-1,4,-1,0,-1,0],[0,0,-1,0,-1,3,0,0,-1],\\\n",
    "              [0,0,0,-1,0,0,2,-1,0],[0,0,0,0,-1,0,-1,3,-1],[0,0,0,0,0,-1,0,-1,2]])\n",
    "\n",
    "# M-eq(3) \n",
    "# make sure p has shape (3,3) or (9,)\n",
    "def d_norm(p):\n",
    "    if p.shape==(3,3):\n",
    "        p = np.transpose(p).flatten()\n",
    "    \n",
    "    pxD = np.matmul(p, D)\n",
    "    d = np.matmul(pxD, np.transpose(p)) \n",
    "    d = np.sqrt(d)\n",
    "    \n",
    "    return d "
   ]
  },
  {
   "cell_type": "markdown",
   "metadata": {},
   "source": [
    "Normalize $\\mathbf{x} \\in \\mathcal{M}$ by subtracting the mean and embed $\\mathcal{M}$ in 7-ellipsoid $\\tilde{S}^7$\n",
    "$$ \\mathcal{M} \\subset \\tilde{S}^7 \\subset \\mathbb{R}^9$$ "
   ]
  },
  {
   "cell_type": "code",
   "execution_count": 3,
   "metadata": {},
   "outputs": [],
   "source": [
    "# M-eq(1) \n",
    "# make sure q has shape (3,3) or (9,)\n",
    "def to_7ellip(q):\n",
    "    if q.shape==(3,3):\n",
    "        q = np.transpose(q).flatten()\n",
    "    diff = q - np.sum(q)/9\n",
    "    normalized_diff = diff / d_norm(diff)\n",
    "\n",
    "    return normalized_diff"
   ]
  },
  {
   "cell_type": "markdown",
   "metadata": {},
   "source": [
    "[M] provides a basis $\\mathcal{MB} = \\{ \\mathbf{e}_1, \\dots ,\\mathbf{e}_8 \\}$ of $\\mathbb{R}^8$"
   ]
  },
  {
   "cell_type": "code",
   "execution_count": 4,
   "metadata": {},
   "outputs": [],
   "source": [
    "# mumford basis\n",
    "e1 = np.array([[1,1,1], [0,0,0], [-1,-1,-1]])\n",
    "e2 = np.array([[1,0,-1], [1,0,-1], [1,0,-1]])\n",
    "\n",
    "e3 = np.array([[1,1,1], [-2,-2,-2], [1,1,1]])\n",
    "e4 = np.array([[1,-2,1], [1,-2,1], [1,-2,1]])\n",
    "\n",
    "e5 = np.array([[1,0,-1], [0,0,0], [-1,0,1]])\n",
    "e6 = np.array([[1,-2,1], [0,0,0], [-1,2,-1]])\n",
    "\n",
    "e7 = np.array([[1,0,-1], [-2,0,2], [1,0,-1]])\n",
    "e8 = np.array([[1,-2,1], [-2,4,-2], [1,-2,1]])\n",
    "\n",
    "e1 = e1/np.sqrt(6)\n",
    "e2 = e2/np.sqrt(6)\n",
    "e3 = e3/np.sqrt(54)\n",
    "e4 = e4/np.sqrt(54)\n",
    "e5 = e5/np.sqrt(8)\n",
    "e6 = e6/np.sqrt(48)\n",
    "e7 = e7/np.sqrt(48)\n",
    "e8 = e8/np.sqrt(216)\n",
    "\n",
    "#flattened e_i\n",
    "ef1 = np.transpose(e1).flatten(); ef2 = np.transpose(e2).flatten(); ef3 = np.transpose(e3).flatten()\n",
    "ef4 = np.transpose(e4).flatten(); ef5 = np.transpose(e5).flatten(); ef6 = np.transpose(e6).flatten()\n",
    "ef7 = np.transpose(e7).flatten(); ef8 = np.transpose(e8).flatten(); "
   ]
  },
  {
   "cell_type": "markdown",
   "metadata": {},
   "source": [
    "With respect to $\\mathcal{MB}$, that is, after change of basis transform, we embed $\\mathcal{M}$ in 7-sphere:\n",
    "$$ \\mathcal{M} \\subset S^7 \\subset \\mathbb{R}^8$$ "
   ]
  },
  {
   "cell_type": "code",
   "execution_count": 5,
   "metadata": {},
   "outputs": [],
   "source": [
    "A = np.stack((ef1,ef2,ef3,ef4,ef5,ef6,ef7,ef8), axis=1)\n",
    "#A.shape\n",
    "\n",
    "Lamb = np.diagflat([1/np.sum(ef1**2), 1/np.sum(ef2**2), 1/np.sum(ef3**2), 1/np.sum(ef4**2), \\\n",
    "                    1/np.sum(ef5**2), 1/np.sum(ef6**2), 1/np.sum(ef7**2), 1/np.sum(ef8**2)]) \n",
    "#Lamb.shape\n",
    "\n",
    "# normalized change of basis matrix\n",
    "B = np.matmul(Lamb, np.transpose(A))\n",
    "\n",
    "# M-eq(7)\n",
    "# make sure p has shape (3,3) or (9,)\n",
    "def to_7sphere(p):\n",
    "    return np.matmul(B, to_7ellip(p))"
   ]
  },
  {
   "cell_type": "markdown",
   "metadata": {},
   "source": [
    "After embedding in $S^7$ we have a natural metric: the angle between 2 unit vectors in $S^7$. We call this metric Mumford-metric."
   ]
  },
  {
   "cell_type": "code",
   "execution_count": 6,
   "metadata": {},
   "outputs": [],
   "source": [
    "# M-eq(9)\n",
    "# make sure p1, p2 has shape (3,3) or (9,)\n",
    "def mumford_metric(p1, p2):\n",
    "    v1 = to_7sphere(p1)\n",
    "    v2 = to_7sphere(p2)\n",
    "    \n",
    "    return np.arccos(np.dot(v1,v2))"
   ]
  },
  {
   "cell_type": "markdown",
   "metadata": {},
   "source": [
    "Now mumford-metric gives a manifold structure on $\\mathcal{M}$ inherited from $S^7$.\n",
    "\n",
    "## TDA\n",
    "Now with geometry in hand, we can apply TDA tools to investigate geometry of patches, or weight parameters occurring in training of CNN."
   ]
  },
  {
   "cell_type": "code",
   "execution_count": 7,
   "metadata": {},
   "outputs": [],
   "source": [
    "hh=0.99; h=0.75; mm=0.5; l=0.25; ll=0.\n",
    "\n",
    "# Will need a cleverer way to this than manually for general cases.\n",
    "# primary patch in 3x3 form, to graph easily.\n",
    "pp1 = np.array([[ll,mm,hh],[ll,mm,hh],[ll,mm,hh]])\n",
    "# primary cirle in S^7\n",
    "pc1 = to_7sphere(pp1)\n",
    "\n",
    "pp2 = np.array([[mm,h,hh],[l,mm,h],[ll,l,mm]])\n",
    "pc2 = to_7sphere(pp2)\n",
    "pp3 = np.array([[hh,hh,hh],[mm,mm,mm],[ll,ll,ll]])\n",
    "pc3 = to_7sphere(pp3)\n",
    "pp4 = np.flip(pp2,1)\n",
    "pc4 = to_7sphere(pp4)\n",
    "pp5 = np.flip(pp1,1)\n",
    "pc5 = to_7sphere(pp5)\n",
    "pp6 = np.transpose(pp2)\n",
    "pc6 = to_7sphere(pp6)\n",
    "pp7 = np.flip(pp3,0)\n",
    "pc7 = to_7sphere(pp7)\n",
    "pp8 = np.flip(pp6,1)\n",
    "pc8 = to_7sphere(pp8)\n",
    "\n",
    "# patch secondary red\n",
    "psr1 = pp1 \n",
    "psr2 = np.array([[ll,hh,mm],[ll,hh,mm],[ll,hh,mm]])\n",
    "psr3 = np.array([[ll,hh,ll],[ll,hh,ll],[ll,hh,ll]])\n",
    "psr4 = np.flip(psr2,1)\n",
    "psr5 = np.flip(psr1,1) # = pp5\n",
    "psr6 = np.array([[hh,ll,mm],[hh,ll,mm],[hh,ll,mm]])\n",
    "psr7 = np.array([[hh,ll,hh],[hh,ll,hh],[hh,ll,hh]])\n",
    "psr8 = np.flip(psr6,1)\n",
    "\n",
    "# patch secondary green\n",
    "psg1 = np.array([[hh,hh,hh],[ll,ll,ll],[hh,hh,hh]])\n",
    "psg2 = np.array([[hh,hh,hh],[ll,ll,ll],[mm,mm,mm]])\n",
    "psg3 = np.array([[hh,hh,hh],[mm,mm,mm],[ll,ll,ll]]) # = pp3\n",
    "psg4 = np.array([[mm,mm,mm],[hh,hh,hh],[ll,ll,ll]])\n",
    "psg5 = np.array([[ll,ll,ll],[hh,hh,hh],[ll,ll,ll]])\n",
    "psg6 = np.flip(psg4,0)\n",
    "psg7 = np.flip(psg3,0) # = pp7\n",
    "psg8 = np.flip(psg1,0)\n",
    "\n",
    "pps = np.array([pp1, pp2, pp3, pp4, pp5, pp6, pp7, pp8]) #pps.shape = (8,3,3)\n",
    "pc = np.array([pc1, pc2, pc3, pc4, pc5, pc6, pc7, pc8]) #pc.shape = (8,8)\n",
    "\n",
    "psrs = np.array([psr1,psr2,psr3,psr4,psr5,psr6,psr7,psr8])\n",
    "psgs = np.array([psg1,psg2,psg3,psg4,psg5,psg6,psg7,psg8])"
   ]
  },
  {
   "cell_type": "code",
   "execution_count": 8,
   "metadata": {},
   "outputs": [
    {
     "data": {
      "image/png": "[encoded data removed]",
      "text/plain": [
       "<Figure size 669.6x432 with 24 Axes>"
      ]
     },
     "metadata": {},
     "output_type": "display_data"
    }
   ],
   "source": [
    "fig, ((ax11,ax12,ax13,ax14,ax15,ax16,ax17,ax18), \\\n",
    "      (ax21,ax22,ax23,ax24,ax25,ax26,ax27,ax28), \\\n",
    "      (ax31,ax32,ax33,ax34,ax35,ax36,ax37,ax38)) =\\\n",
    "                                  plt.subplots(nrows=3, ncols=8, figsize=(9.3, 6),\\\n",
    "                                  subplot_kw={'xticks': [], 'yticks': []} )\n",
    "\n",
    "c_scheme = plt.cm.bone\n",
    "\n",
    "ax_p = iter([ax11,ax12,ax13,ax14,ax15,ax16,ax17,ax18])\n",
    "for i in range(8):\n",
    "    next(ax_p).imshow(pps[i], cmap=c_scheme) \n",
    "    \n",
    "ax_sr = iter([ax21,ax22,ax23,ax24,ax25,ax26,ax27,ax28]) \n",
    "for i in range(8):\n",
    "    next(ax_sr).imshow(psrs[i], cmap=c_scheme) \n",
    "\n",
    "ax_sg = iter([ax31,ax32,ax33,ax34,ax35,ax36,ax37,ax38])\n",
    "for i in range(8):\n",
    "    next(ax_sg).imshow(psgs[i], cmap=c_scheme) "
   ]
  },
  {
   "cell_type": "code",
   "execution_count": null,
   "metadata": {},
   "outputs": [],
   "source": [
    "# inspect\n",
    "\n",
    "#for x in psgs:\n",
    "#    y = to_7ellip(x)\n",
    "#    print(y)\n",
    "#    print('expect 0: ', int(np.sum(y)))\n",
    "#    print('expect about 1: ', np.sum(d_norm(y)))\n",
    "#    \n",
    "#    v = to_7sphere(y)\n",
    "#    print('expect about 1: ', np.linalg.norm(v))\n",
    "#    print()"
   ]
  },
  {
   "cell_type": "markdown",
   "metadata": {},
   "source": [
    "8-parch set above indeed forms $S^1$"
   ]
  },
  {
   "cell_type": "code",
   "execution_count": 28,
   "metadata": {},
   "outputs": [
    {
     "name": "stdout",
     "output_type": "stream",
     "text": [
      "angle:  0.7854939719630577\n",
      "expect 2*Pi:  6.283951775704462\n",
      "\n",
      "angle:  0.7854939719630577\n",
      "expect 2*Pi:  6.283951775704462\n",
      "\n",
      "angle:  0.7854939719630577\n",
      "expect 2*Pi:  6.283951775704462\n",
      "\n",
      "angle:  0.7854939719630578\n",
      "expect 2*Pi:  6.2839517757044625\n",
      "\n",
      "angle:  0.7854939719630578\n",
      "expect 2*Pi:  6.2839517757044625\n",
      "\n",
      "angle:  0.7854939719630577\n",
      "expect 2*Pi:  6.283951775704462\n",
      "\n",
      "angle:  0.7854939719630577\n",
      "expect 2*Pi:  6.283951775704462\n",
      "\n",
      "angle:  0.7854939719630577\n",
      "expect 2*Pi:  6.283951775704462\n",
      "\n"
     ]
    }
   ],
   "source": [
    "for i,j in list(zip(range(8), np.roll(range(8),-1))):\n",
    "    print('angle: ',  mumford_metric(pps[i],pps[j]))\n",
    "    print('expect 2*Pi: ', 8*mumford_metric(pps[i],pps[j]))\n",
    "    print()"
   ]
  },
  {
   "cell_type": "markdown",
   "metadata": {},
   "source": [
    "### TDA Mapper "
   ]
  },
  {
   "cell_type": "code",
   "execution_count": 9,
   "metadata": {},
   "outputs": [
    {
     "name": "stdout",
     "output_type": "stream",
     "text": [
      "KeplerMapper()\n"
     ]
    }
   ],
   "source": [
    "import kmapper as km\n",
    "\n",
    "mapper = km.KeplerMapper(verbose=1)"
   ]
  },
  {
   "cell_type": "markdown",
   "metadata": {},
   "source": [
    "#### Distance Matrix\n",
    "\n",
    "A normal course of action is projecting dataset to parameter space:"
   ]
  },
  {
   "cell_type": "code",
   "execution_count": null,
   "metadata": {},
   "outputs": [],
   "source": [
    "#lens = mapper.project(data, projection= ... , scaler=None, distance_matrix= ... )"
   ]
  },
  {
   "cell_type": "markdown",
   "metadata": {},
   "source": [
    "kepler-mapper provides several built-in options for projections and metrics. In case a metric is specified,\n",
    "lens is the distance matrix of the dataset.\n",
    "Recall that $\\mathcal{M}$ is equipped with mumford-metric, which kepler-mapper does not seem to have. \n",
    "kepler-mapper does not seem to have an option to give data space a custom metric. Therefore, we compute the\n",
    "distance matrix of mumford-metric."
   ]
  },
  {
   "cell_type": "markdown",
   "metadata": {},
   "source": []
  },
  {
   "cell_type": "code",
   "execution_count": 10,
   "metadata": {},
   "outputs": [
    {
     "data": {
      "text/plain": [
       "(8, 8)"
      ]
     },
     "execution_count": 10,
     "metadata": {},
     "output_type": "execute_result"
    }
   ],
   "source": [
    "from itertools import product \n",
    "\n",
    "n= len(pps)\n",
    "dist_matrix = np.zeros((n,n))\n",
    "\n",
    "for (i,j) in list(product(range(n), range(n))):\n",
    "    dist_matrix[i,j] = mumford_metric(pps[i],pps[j])\n",
    "    \n",
    "dist_matrix.shape"
   ]
  },
  {
   "cell_type": "code",
   "execution_count": 25,
   "metadata": {},
   "outputs": [
    {
     "data": {
      "text/plain": [
       "0.7854939719630577"
      ]
     },
     "execution_count": 25,
     "metadata": {},
     "output_type": "execute_result"
    }
   ],
   "source": [
    "mumford_metric(pp1,pp2)"
   ]
  },
  {
   "cell_type": "code",
   "execution_count": 27,
   "metadata": {},
   "outputs": [
    {
     "data": {
      "text/plain": [
       "array([0, 0, 0, 0, 0, 0, 0, 0])"
      ]
     },
     "execution_count": 27,
     "metadata": {},
     "output_type": "execute_result"
    }
   ],
   "source": [
    "from sklearn.cluster import DBSCAN\n",
    "\n",
    "db = DBSCAN(min_samples=1, metric=\"precomputed\", eps=0.8)\n",
    "\n",
    "y_db = db.fit_predict(dist_matrix)\n",
    "\n",
    "y_db"
   ]
  },
  {
   "cell_type": "code",
   "execution_count": 24,
   "metadata": {},
   "outputs": [
    {
     "name": "stdout",
     "output_type": "stream",
     "text": [
      "Mapping on data shaped (8, 8) using lens shaped (8, 8)\n",
      "\n",
      "Creating 100000000 hypercubes.\n",
      "\n",
      "Created 0 edges and 0 nodes in 0:24:56.808880.\n"
     ]
    },
    {
     "data": {
      "text/plain": [
       "[]"
      ]
     },
     "execution_count": 24,
     "metadata": {},
     "output_type": "execute_result"
    }
   ],
   "source": [
    "graph = mapper.map(dist_matrix, pc, precomputed=True)\n",
    "list(graph['nodes'])"
   ]
  },
  {
   "cell_type": "code",
   "execution_count": 21,
   "metadata": {},
   "outputs": [
    {
     "data": {
      "text/plain": [
       "0.9999999999999999"
      ]
     },
     "execution_count": 21,
     "metadata": {},
     "output_type": "execute_result"
    }
   ],
   "source": [
    "np.linalg.norm(pc1)"
   ]
  },
  {
   "cell_type": "code",
   "execution_count": 22,
   "metadata": {},
   "outputs": [
    {
     "data": {
      "text/plain": [
       "array([ 2.77555756e-17, -9.99948989e-01,  2.77555756e-17, -1.01004948e-02,\n",
       "        0.00000000e+00,  0.00000000e+00,  2.77555756e-17, -2.77555756e-17])"
      ]
     },
     "execution_count": 22,
     "metadata": {},
     "output_type": "execute_result"
    }
   ],
   "source": [
    "pc1"
   ]
  },
  {
   "cell_type": "code",
   "execution_count": null,
   "metadata": {},
   "outputs": [],
   "source": []
  }
 ],
 "metadata": {
  "kernelspec": {
   "display_name": "Python 3",
   "language": "python",
   "name": "python3"
  },
  "language_info": {
   "codemirror_mode": {
    "name": "ipython",
    "version": 3
   },
   "file_extension": ".py",
   "mimetype": "text/x-python",
   "name": "python",
   "nbconvert_exporter": "python",
   "pygments_lexer": "ipython3",
   "version": "3.7.3"
  }
 },
 "nbformat": 4,
 "nbformat_minor": 2
}
